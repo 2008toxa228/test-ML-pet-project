{
 "cells": [
  {
   "cell_type": "code",
   "execution_count": null,
   "id": "3c538fbd",
   "metadata": {},
   "outputs": [],
   "source": [
    "import pandas as pd\n",
    "import math\n",
    "import numpy as np\n",
    "from scipy import stats\n",
    "import matplotlib.pyplot as plt\n",
    "from sklearn.compose import ColumnTransformer\n",
    "from sklearn.pipeline import Pipeline\n",
    "from sklearn.preprocessing import MinMaxScaler\n",
    "import seaborn as sns\n",
    "import dill as dill\n",
    "import json\n",
    "\n",
    "from Utilities.Preprocessors import DataPreprocessor\n",
    "from Utilities.Transformers import MultilabelTransformer\n",
    "from Utilities.Transformers import LocationTransformer\n",
    "from Utilities.Transformers import ParkingTransformer\n",
    "from sklearn.preprocessing import FunctionTransformer\n",
    "from Utilities.Common import check_models, check_overfitting, get_fold, get_metrics\n",
    "\n",
    "from sklearn.metrics import r2_score\n",
    "from sklearn.metrics import explained_variance_score\n",
    "from sklearn.metrics import mean_squared_error\n",
    "from sklearn.metrics import mean_absolute_error\n",
    "from sklearn.model_selection import cross_validate\n",
    "from sklearn.model_selection import train_test_split\n",
    "from sklearn.model_selection import KFold\n",
    "from sklearn.model_selection import GridSearchCV\n",
    "from sklearn.linear_model import SGDRegressor\n",
    "from sklearn.linear_model import LinearRegression\n",
    "from sklearn.linear_model import Lasso\n",
    "from sklearn.linear_model import ElasticNet\n",
    "from sklearn.linear_model import Ridge\n",
    "from sklearn.svm import SVR\n",
    "from sklearn.ensemble import BaggingRegressor\n",
    "from sklearn.ensemble import RandomForestRegressor\n",
    "from sklearn.utils import shuffle\n",
    "from sklearn.inspection import permutation_importance\n",
    "\n",
    "\n",
    "from Utilities.Transformers import ScalerTransformer\n",
    "from Utilities.Transformers import FeatureSelector\n",
    "from sklearn.base import BaseEstimator, TransformerMixin\n",
    "from sklearn.feature_extraction.text import CountVectorizer\n",
    "from sklearn.preprocessing import OneHotEncoder\n",
    "#import Utilities\n",
    "\n",
    "import warnings\n",
    "warnings.filterwarnings('ignore')"
   ]
  },
  {
   "cell_type": "code",
   "execution_count": null,
   "id": "e5730798-9cb3-412c-823f-b308e717207d",
   "metadata": {
    "tags": []
   },
   "outputs": [],
   "source": [
    "def mainify(obj):\n",
    "    \"\"\"If obj is not defined in __main__ then redefine it in \n",
    "    main so that dill will serialize the definition along with the object\"\"\"\n",
    "    if obj.__module__ != \"__main__\":\n",
    "        import __main__\n",
    "        import inspect\n",
    "        s = inspect.getsource(obj)\n",
    "        co = compile(s, '<string>', 'exec')\n",
    "        exec(co, __main__.__dict__)"
   ]
  },
  {
   "cell_type": "code",
   "execution_count": null,
   "id": "3b975098",
   "metadata": {},
   "outputs": [],
   "source": [
    "N_FOLDS = 5\n",
    "LOCATIONS_POSTALCODES_PATH = \"Utilities/PostalcodesSearch/locations_postalcodes.json\"\n",
    "SCORING = {'R2': 'r2',\n",
    "           'explained_variance': 'explained_variance',\n",
    "           'MSE': 'neg_mean_squared_error',\n",
    "           'MAE': 'neg_mean_absolute_error'}"
   ]
  },
  {
   "cell_type": "code",
   "execution_count": null,
   "id": "bb29e2d9-aeb4-4b8b-9b47-52f4e878d41e",
   "metadata": {},
   "outputs": [],
   "source": [
    "#Переопределение объектов из окружения которые не определены в __main__ для их сереализации в dill.\n",
    "mainify(DataPreprocessor)\n",
    "mainify(LocationTransformer)\n",
    "mainify(MultilabelTransformer)\n",
    "mainify(FeatureSelector)\n",
    "mainify(ScalerTransformer)"
   ]
  },
  {
   "cell_type": "code",
   "execution_count": null,
   "id": "8233c2e8",
   "metadata": {},
   "outputs": [],
   "source": [
    "df1 = pd.read_csv(\"Data/kursk_apartments.csv\", index_col=0)\n",
    "df1.shape"
   ]
  },
  {
   "cell_type": "code",
   "execution_count": null,
   "id": "4a2dda32",
   "metadata": {},
   "outputs": [],
   "source": [
    "outlier_cols = ['Цена', 'Общая площадь']\n",
    "df1 = df1[(np.abs(stats.zscore(df1[outlier_cols])) < 2).all(axis=1)]\n",
    "df1.dropna(subset=outlier_cols, how='all', inplace=True)\n",
    "df1.shape"
   ]
  },
  {
   "cell_type": "code",
   "execution_count": null,
   "id": "007ba5a5",
   "metadata": {},
   "outputs": [],
   "source": [
    "drop_columns = ['Ремонт', 'Мебель', 'Техника', 'Тип дома']\n",
    "\n",
    "passthrough_columns = ['Общая площадь']\n",
    "\n",
    "selected_columns = ['price__Цена', 'passthrough__Общая площадь',\n",
    "                    'postalcode__Почтовый индекс_305000',\n",
    "                    'postalcode__Почтовый индекс_305001',\n",
    "                    'postalcode__Почтовый индекс_305004',\n",
    "                    'postalcode__Почтовый индекс_305005',\n",
    "                    'postalcode__Почтовый индекс_305006',\n",
    "                    'postalcode__Почтовый индекс_305016',\n",
    "                    'postalcode__Почтовый индекс_305018',\n",
    "                    'postalcode__Почтовый индекс_305021',\n",
    "                    'renovation__дизайнерский', 'renovation__евро',\n",
    "                    'house_type__монолитный',\n",
    "                    'furniture__хранение одежды','furniture__кухня',\n",
    "                    'appliances__водонагреватель', 'appliances__кондиционер', 'appliances__микроволновка', 'appliances__nan',\n",
    "                    'appliances__посудомоечная машина', 'appliances__стиральная машина', 'appliances__телевизор']\n",
    "\n",
    "\n",
    "with open(LOCATIONS_POSTALCODES_PATH, encoding='utf-8') as file:\n",
    "    locations_postalcodes = json.load(file)\n",
    "\n",
    "column_preprocessor = ColumnTransformer(\n",
    "    [\n",
    "        ('price', FunctionTransformer(np.log1p, inverse_func=np.exp), ['Цена']),\n",
    "        ('passthrough', 'passthrough', passthrough_columns),\n",
    "        ('postalcode', LocationTransformer(locations_postalcodes, min_occurances=10), 'Улица'),\n",
    "        ('room_type', MultilabelTransformer(), 'Тип комнат'),\n",
    "        ('renovation', MultilabelTransformer(), 'Ремонт'),\n",
    "        ('house_type', MultilabelTransformer(), 'Тип дома'),\n",
    "        ('furniture', MultilabelTransformer(), 'Мебель'),\n",
    "        ('appliances', MultilabelTransformer(), 'Техника'),\n",
    "        ('drop_transformed', 'drop', drop_columns)\n",
    "    ],\n",
    "    remainder='drop',\n",
    ")\n",
    "column_preprocessor.set_output(transform='pandas')\n",
    "\n",
    "\n",
    "data_preprocessor = DataPreprocessor(\n",
    "    column_preprocessor=column_preprocessor,\n",
    "    selected_columns=selected_columns,\n",
    ")\n",
    "\n",
    "data_preprocessor.fit(df1)"
   ]
  },
  {
   "cell_type": "code",
   "execution_count": null,
   "id": "6ba7ef92",
   "metadata": {},
   "outputs": [],
   "source": [
    "with open('Outputs/data_preprocessor.dill', 'wb') as file:\n",
    "    dill.dump(data_preprocessor, file, byref=False, recurse=True)"
   ]
  },
  {
   "cell_type": "markdown",
   "id": "ebe57c44",
   "metadata": {},
   "source": [
    "# Modeling"
   ]
  },
  {
   "cell_type": "code",
   "execution_count": null,
   "id": "0d5abe3d",
   "metadata": {},
   "outputs": [],
   "source": [
    "transformed = data_preprocessor.transform(df1)\n",
    "transformed = shuffle(transformed, random_state=5).reset_index(drop=True)\n",
    "transformed.head()"
   ]
  },
  {
   "cell_type": "code",
   "execution_count": null,
   "id": "55afb74b",
   "metadata": {},
   "outputs": [],
   "source": [
    "X = transformed.drop(['price__Цена'], axis=1)\n",
    "y = transformed['price__Цена']"
   ]
  },
  {
   "cell_type": "markdown",
   "id": "23f2ed5f",
   "metadata": {},
   "source": [
    "## Baseline"
   ]
  },
  {
   "cell_type": "code",
   "execution_count": null,
   "id": "d646be80",
   "metadata": {},
   "outputs": [],
   "source": [
    "models = dict()\n",
    "models[\"sgdr\"] = SGDRegressor()\n",
    "models[\"linear\"] = LinearRegression()\n",
    "models[\"ridge\"] = Ridge()\n",
    "models[\"svr_linear\"] = SVR(kernel='linear')\n",
    "models[\"svr_rbf\"] = SVR(kernel='rbf')\n",
    "models[\"lasso\"] = Lasso()\n",
    "models[\"elastic\"] = ElasticNet()\n",
    "models[\"random_forest\"] = RandomForestRegressor(n_estimators=100)\n",
    "models['ensemble_ridge'] = BaggingRegressor(\n",
    "    estimator=Ridge(),\n",
    "    n_estimators=20,\n",
    "    random_state=0\n",
    ")\n",
    "models['ensemble_svr_linear'] = BaggingRegressor(\n",
    "    estimator=SVR(kernel='linear'),\n",
    "    n_estimators=20,\n",
    "    random_state=0\n",
    ")\n",
    "models['ensemble_linear'] = BaggingRegressor(\n",
    "    estimator=LinearRegression(),\n",
    "    n_estimators=20,\n",
    "    random_state=0\n",
    ")"
   ]
  },
  {
   "cell_type": "code",
   "execution_count": null,
   "id": "f739ebc8",
   "metadata": {},
   "outputs": [],
   "source": [
    "results = check_models(models, X, y, SCORING, n_folds=N_FOLDS)\n",
    "results.sort_values(by='test_explained_variance', key=(\n",
    "    lambda x: x.str['mean']), ascending=False).head(5)"
   ]
  },
  {
   "cell_type": "markdown",
   "id": "0162fb26",
   "metadata": {},
   "source": [
    "## Tuning"
   ]
  },
  {
   "cell_type": "code",
   "execution_count": null,
   "id": "fce2d175",
   "metadata": {},
   "outputs": [],
   "source": [
    "grid_params = [\n",
    "    {\n",
    "        'model': Ridge(),\n",
    "        'grid': {\n",
    "            'solver': ['auto', 'svd', 'cholesky', 'lsqr', 'sparse_cg', 'sag', 'saga'],\n",
    "            'alpha': np.arange(0, 5, 0.1).tolist(),\n",
    "            'fit_intercept': [True, False],\n",
    "        }\n",
    "    },\n",
    "    {\n",
    "        'model': BaggingRegressor(\n",
    "            estimator=Ridge(),\n",
    "            random_state=1\n",
    "        ),\n",
    "        'grid': {\n",
    "            'estimator__alpha': np.arange(1, 2.5, 0.1).tolist(),\n",
    "            'estimator__solver': ['auto', 'sparse_cg', 'sag', 'saga'],\n",
    "            'estimator__fit_intercept': [True, False],\n",
    "            'n_estimators': np.arange(20, 26, 1).tolist(),\n",
    "            'max_features': np.arange(0.7, 1.01, 0.1).tolist(),\n",
    "            'max_samples': np.arange(0.7, 1.01, 0.1).tolist()\n",
    "        }\n",
    "    },\n",
    "    {\n",
    "        'model': BaggingRegressor(\n",
    "            estimator=SVR(kernel='linear'),\n",
    "            max_features=0.9,\n",
    "            n_estimators=22,\n",
    "            random_state=1\n",
    "        ),\n",
    "        'grid': {\n",
    "            'estimator__degree': list(range(1, 6)),\n",
    "            'estimator__gamma': ['scale', 'auto'],\n",
    "            'estimator__coef0': np.arange(0, 1.01, 0.2).tolist(),\n",
    "            'estimator__C': np.arange(0, 5, 0.05).tolist(),\n",
    "            'estimator__epsilon': np.arange(0, 1, 0.1).tolist()\n",
    "        }\n",
    "    }\n",
    "]"
   ]
  },
  {
   "cell_type": "raw",
   "id": "252759dd",
   "metadata": {},
   "source": [
    "for param in grid_params:\n",
    "    gs = GridSearchCV(\n",
    "        param['model'],\n",
    "        param_grid=param['grid'],\n",
    "        scoring='r2',\n",
    "        cv=N_FOLDS,\n",
    "        n_jobs=-1\n",
    "    )\n",
    "    gs_fitted = gs.fit(X, y)\n",
    "    print(gs_fitted.best_score_)\n",
    "    print(gs_fitted.best_estimator_)"
   ]
  },
  {
   "cell_type": "code",
   "execution_count": null,
   "id": "b7d61ed9",
   "metadata": {},
   "outputs": [],
   "source": [
    "best_models = {\n",
    "    'ridge_ensemble': BaggingRegressor(\n",
    "        estimator=Ridge(alpha=1.2, fit_intercept=False, solver='sparse_cg'),\n",
    "        max_samples=0.9,\n",
    "        n_estimators=25,\n",
    "        random_state=1\n",
    "    ),\n",
    "    'svr_ensemble': BaggingRegressor(\n",
    "        estimator=SVR(C=0.17, degree=1, epsilon=0.0, kernel='linear'),\n",
    "        max_features=0.9,\n",
    "        n_estimators=22,\n",
    "        random_state=1\n",
    "    ),\n",
    "    \"ridge\": Ridge(alpha=1.1, fit_intercept=False, solver='sparse_cg')\n",
    "}"
   ]
  },
  {
   "cell_type": "code",
   "execution_count": null,
   "id": "b490ab61",
   "metadata": {},
   "outputs": [],
   "source": [
    "gscv_result = check_models(best_models, X, y, SCORING, n_folds=N_FOLDS)\n",
    "gscv_result.head()"
   ]
  },
  {
   "cell_type": "code",
   "execution_count": null,
   "id": "3add7e94",
   "metadata": {},
   "outputs": [],
   "source": [
    "best_model = best_models['svr_ensemble']"
   ]
  },
  {
   "cell_type": "code",
   "execution_count": null,
   "id": "b85b04b8",
   "metadata": {},
   "outputs": [],
   "source": [
    "cross_calidator = KFold(n_splits=N_FOLDS, shuffle=True, random_state=1)\n",
    "\n",
    "final_scores = list()\n",
    "for n_fold, (train_index, test_index) in enumerate(cross_calidator.split(X, y)):\n",
    "    X_train, X_test = X.iloc[train_index], X.iloc[test_index]\n",
    "    y_train, y_test = y.iloc[train_index], y.iloc[test_index]\n",
    "\n",
    "    scores = get_metrics(best_model, X_train, y_train, X_test, y_test)\n",
    "    scores['overfitting_delta'] = check_overfitting(\n",
    "        best_model, X_train, y_train, X_test, y_test, metric_fun=mean_absolute_error)\n",
    "    scores[\"n_fold\"] = n_fold\n",
    "\n",
    "    final_scores.append(scores)\n",
    "\n",
    "res = pd.DataFrame(final_scores)\n",
    "res.sort_values(by='overfitting_delta', ascending=True).head()"
   ]
  },
  {
   "cell_type": "code",
   "execution_count": null,
   "id": "57b47879",
   "metadata": {},
   "outputs": [],
   "source": [
    "best_n_fold = 1"
   ]
  },
  {
   "cell_type": "code",
   "execution_count": null,
   "id": "19222161-9478-4d4a-ba24-bfb7fd1ed741",
   "metadata": {
    "tags": []
   },
   "outputs": [],
   "source": [
    "#ToDo удалить, поскольку эта интерпритация не является точной из-за логарифмирования целевой переменной\n",
    "best_row = res.iloc[best_n_fold]\n",
    "print('Cредняя абсолютная и квадратичная ошибки в рублях для лучшей модели')\n",
    "print(f'\\tMAE: {data_preprocessor.inverse_predicted_values([best_row[\"MAE\"].item()])[0] - data_preprocessor.inverse_predicted_values([0])[0]}')\n",
    "print(f'\\tMSE: {data_preprocessor.inverse_predicted_values([best_row[\"MSE\"].item()])[0] - data_preprocessor.inverse_predicted_values([0])[0]}')"
   ]
  },
  {
   "cell_type": "code",
   "execution_count": null,
   "id": "2bbf9089",
   "metadata": {},
   "outputs": [],
   "source": [
    "X_train, y_train, X_test, y_test = get_fold(best_n_fold, cross_calidator, X, y)\n",
    "final_model = best_model.fit(X_train, y_train)"
   ]
  },
  {
   "cell_type": "code",
   "execution_count": null,
   "id": "218037dc",
   "metadata": {},
   "outputs": [],
   "source": [
    "test_predictions = final_model.predict(X).flatten()\n",
    "plt.figure(figsize=(4, 4))\n",
    "plt.axes(aspect='equal')\n",
    "plt.scatter(y, test_predictions)\n",
    "plt.plot([0, 1], [0, 1], color='red')\n",
    "plt.xlabel('True values')\n",
    "plt.ylabel('Predictions')\n",
    "plt.show()"
   ]
  },
  {
   "cell_type": "code",
   "execution_count": null,
   "id": "b7c2f91f",
   "metadata": {},
   "outputs": [],
   "source": [
    "with open('Outputs/ml_model.dill', 'wb') as file:\n",
    "    dill.dump(final_model, file)"
   ]
  },
  {
   "cell_type": "markdown",
   "id": "c021da96",
   "metadata": {},
   "source": [
    "# Feature importance"
   ]
  },
  {
   "cell_type": "code",
   "execution_count": null,
   "id": "3d5c51dc",
   "metadata": {},
   "outputs": [],
   "source": [
    "permutation_importances = permutation_importance(\n",
    "    final_model, X_test, y_test, n_repeats=10, random_state=1)\n",
    "\n",
    "perm_df = pd.DataFrame((permutation_importances['importances_mean'], X.columns.to_list()),\n",
    "                       index=('Score', 'Features'))\n",
    "\n",
    "perm_df = perm_df.T.sort_values(ascending=False, by='Score')#[:15]\n",
    "perm_df.set_index('Features')['Score'].plot.bar(figsize=(20, 7), grid=True)\n",
    "\n",
    "plt.xticks(fontsize=15)\n",
    "plt.yticks(fontsize=15)\n",
    "plt.title('15 самых важных признаков', fontsize=20, y=1.05)\n",
    "plt.show()"
   ]
  },
  {
   "cell_type": "code",
   "execution_count": null,
   "id": "06f9d854",
   "metadata": {},
   "outputs": [],
   "source": []
  }
 ],
 "metadata": {
  "kernelspec": {
   "display_name": "env-kernel",
   "language": "python",
   "name": "env-kernel"
  },
  "language_info": {
   "codemirror_mode": {
    "name": "ipython",
    "version": 3
   },
   "file_extension": ".py",
   "mimetype": "text/x-python",
   "name": "python",
   "nbconvert_exporter": "python",
   "pygments_lexer": "ipython3",
   "version": "3.10.4"
  },
  "toc": {
   "base_numbering": 1,
   "nav_menu": {},
   "number_sections": true,
   "sideBar": true,
   "skip_h1_title": false,
   "title_cell": "Table of Contents",
   "title_sidebar": "Contents",
   "toc_cell": false,
   "toc_position": {
    "height": "calc(100% - 180px)",
    "left": "10px",
    "top": "150px",
    "width": "384px"
   },
   "toc_section_display": true,
   "toc_window_display": true
  }
 },
 "nbformat": 4,
 "nbformat_minor": 5
}
